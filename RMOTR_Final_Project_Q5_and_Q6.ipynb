{
 "cells": [
  {
   "cell_type": "markdown",
   "metadata": {},
   "source": [
    "### RMOTR FINAL PROJECT\n",
    "##### STACKOVERFLOW 2018 SURVEY RESULT ANALYSIS"
   ]
  },
  {
   "cell_type": "code",
   "execution_count": 1,
   "metadata": {},
   "outputs": [
    {
     "name": "stderr",
     "output_type": "stream",
     "text": [
      "Using TensorFlow backend.\n"
     ]
    }
   ],
   "source": [
    "# Initiliaze Common Packages/Libraries\n",
    "import pandas as pd\n",
    "import numpy as np\n",
    "import matplotlib.pyplot as plt\n",
    "import seaborn as sns\n",
    "import csv\n",
    "from zipfile import ZipFile\n",
    "from pandas.api.types import CategoricalDtype\n",
    "from sklearn.preprocessing import OneHotEncoder\n",
    "from keras.models import Sequential\n",
    "from keras.layers import Dense\n",
    "from keras.optimizers import SGD,Adam\n",
    "\n",
    "\n",
    "import warnings\n",
    "warnings.filterwarnings('ignore')\n",
    "\n",
    "sns.set(rc={'figure.figsize': (14, 7)})"
   ]
  },
  {
   "cell_type": "code",
   "execution_count": 2,
   "metadata": {},
   "outputs": [],
   "source": [
    "def mem_usage(pandas_obj):\n",
    "    if isinstance(pandas_obj,pd.DataFrame):\n",
    "        usage_b = pandas_obj.memory_usage(deep=True).sum()\n",
    "    else: # we assume if not a df it's a series\n",
    "        usage_b = pandas_obj.memory_usage(deep=True)\n",
    "    usage_mb = usage_b / 1024 ** 2 # convert bytes to megabytes\n",
    "    return \"{:03.2f} MB\".format(usage_mb)"
   ]
  },
  {
   "cell_type": "code",
   "execution_count": 3,
   "metadata": {},
   "outputs": [],
   "source": [
    "df_public = pd.read_csv('data/survey_results_public.csv')\n",
    "df_schema = pd.read_csv('data/survey_results_schema.csv')\n",
    "\n",
    "## Summary of the Dataset:\n",
    "## The dataset contians answers to various questions asked to respondents who have used StackOverflow. \n",
    "## Questions include categories about the respondent (for example: Which country they're from, what race they are, what's their education background, etc.)\n",
    "## Additional there are questions that dive in deeper into respondent's sentiment about career, and skills they use related to coding.\n",
    "## there are also behavioral questions about the respondents which can help us understand who that person is.\n"
   ]
  },
  {
   "cell_type": "code",
   "execution_count": 4,
   "metadata": {},
   "outputs": [
    {
     "name": "stdout",
     "output_type": "stream",
     "text": [
      "<class 'pandas.core.frame.DataFrame'>\n",
      "RangeIndex: 98855 entries, 0 to 98854\n",
      "Columns: 129 entries, Respondent to SurveyEasy\n",
      "dtypes: float64(41), int64(1), object(87)\n",
      "memory usage: 97.3+ MB\n"
     ]
    }
   ],
   "source": [
    "df_public.info()"
   ]
  },
  {
   "cell_type": "markdown",
   "metadata": {},
   "source": [
    "## Question 5"
   ]
  },
  {
   "cell_type": "markdown",
   "metadata": {},
   "source": [
    "#### Which are the most popular programming languages? And which are the highest-paying ones?"
   ]
  },
  {
   "cell_type": "markdown",
   "metadata": {},
   "source": [
    "The first question pertains to determing what the most popular programming langauges. To answer that, we're going to count the unique occurances of each langauge. "
   ]
  },
  {
   "cell_type": "code",
   "execution_count": 5,
   "metadata": {},
   "outputs": [],
   "source": [
    "df = pd.read_csv('data/survey_results_public.csv')"
   ]
  },
  {
   "cell_type": "markdown",
   "metadata": {},
   "source": [
    "After pulling in all the CSV, first step was to split the LanguageWorkedWith column into into unique values"
   ]
  },
  {
   "cell_type": "code",
   "execution_count": 6,
   "metadata": {},
   "outputs": [
    {
     "data": {
      "text/plain": [
       "array(['JavaScript', 'Python', 'HTML', 'CSS', 'Bash/Shell', 'C#', 'SQL',\n",
       "       'TypeScript', 'C', 'C++', 'Java', 'Matlab', 'R', 'Assembly',\n",
       "       'CoffeeScript', 'Erlang', 'Go', 'Lua', 'Ruby', 'PHP', 'VB.NET',\n",
       "       'Swift', 'Groovy', 'Kotlin', 'Objective-C', 'Scala', 'F#',\n",
       "       'Haskell', 'Rust', 'Julia', 'VBA', 'Perl', 'Cobol',\n",
       "       'Visual Basic 6', 'Delphi/Object Pascal', 'Hack', 'Clojure',\n",
       "       'Ocaml'], dtype=object)"
      ]
     },
     "execution_count": 6,
     "metadata": {},
     "output_type": "execute_result"
    }
   ],
   "source": [
    "all_langs = df['LanguageWorkedWith'].str.split(';', expand=True).stack().unique()\n",
    "all_langs"
   ]
  },
  {
   "cell_type": "markdown",
   "metadata": {},
   "source": [
    "Next, create a series by looping through the all_langs object and use the sum function to add up instances"
   ]
  },
  {
   "cell_type": "code",
   "execution_count": 7,
   "metadata": {},
   "outputs": [
    {
     "data": {
      "text/plain": [
       "C                       67063\n",
       "Java                    64912\n",
       "JavaScript              54686\n",
       "HTML                    53628\n",
       "CSS                     50979\n",
       "SQL                     44670\n",
       "Bash/Shell              31172\n",
       "Python                  30359\n",
       "C#                      26954\n",
       "PHP                     24071\n",
       "C++                     19872\n",
       "TypeScript              13626\n",
       "R                       13348\n",
       "Ruby                     7911\n",
       "Swift                    6310\n",
       "Assembly                 5760\n",
       "Go                       5532\n",
       "Objective-C              5510\n",
       "VB.NET                   5254\n",
       "Matlab                   4564\n",
       "VBA                      3810\n",
       "Kotlin                   3508\n",
       "Scala                    3420\n",
       "Groovy                   3373\n",
       "Perl                     3280\n",
       "Visual Basic 6           3087\n",
       "Lua                      2733\n",
       "CoffeeScript             2603\n",
       "Delphi/Object Pascal     2025\n",
       "Haskell                  1961\n",
       "Rust                     1857\n",
       "F#                       1115\n",
       "Clojure                  1032\n",
       "Erlang                    886\n",
       "Cobol                     590\n",
       "Ocaml                     470\n",
       "Julia                     430\n",
       "Hack                      254\n",
       "Name: LangType_count, dtype: int64"
      ]
     },
     "execution_count": 7,
     "metadata": {},
     "output_type": "execute_result"
    }
   ],
   "source": [
    "langtype_count = pd.Series([df.loc[:, 'LanguageWorkedWith'].str.contains(lang, regex=False).sum()\n",
    "                           for lang in all_langs],\n",
    "                          index=all_langs,\n",
    "                          name='LangType_count')\n",
    "\n",
    "langtype_count = langtype_count.sort_values(ascending=False)\n",
    "\n",
    "langtype_count"
   ]
  },
  {
   "cell_type": "markdown",
   "metadata": {},
   "source": [
    "Barchart time. "
   ]
  },
  {
   "cell_type": "code",
   "execution_count": 8,
   "metadata": {},
   "outputs": [
    {
     "data": {
      "text/plain": [
       "<matplotlib.axes._subplots.AxesSubplot at 0x7f1f680d3048>"
      ]
     },
     "execution_count": 8,
     "metadata": {},
     "output_type": "execute_result"
    },
    {
     "data": {
      "image/png": "[encoded data removed]",
      "text/plain": [
       "<Figure size 864x432 with 1 Axes>"
      ]
     },
     "metadata": {
      "needs_background": "light"
     },
     "output_type": "display_data"
    }
   ],
   "source": [
    "langtype_count.plot(kind='bar', figsize=(12, 6))"
   ]
  },
  {
   "cell_type": "code",
   "execution_count": 9,
   "metadata": {},
   "outputs": [],
   "source": [
    "langtype_index = pd.Series([df.loc[:, 'LanguageWorkedWith'].str.contains(lang, regex=False)\n",
    "                           for lang in all_langs],\n",
    "                          index=all_langs,\n",
    "                          name='LangType_count')"
   ]
  },
  {
   "cell_type": "markdown",
   "metadata": {},
   "source": [
    "Just like before, we're looping through occurances. But this time, we're looking at `ConvertedSalary` and finding the median. This will tell us which language has the highest average salary. This is the indidicator as to what language relates to the highest salary. "
   ]
  },
  {
   "cell_type": "code",
   "execution_count": 10,
   "metadata": {},
   "outputs": [
    {
     "data": {
      "text/plain": [
       "Clojure                 82904.0\n",
       "F#                      80366.5\n",
       "Go                      75175.0\n",
       "Hack                    75000.0\n",
       "Groovy                  75000.0\n",
       "Scala                   73906.0\n",
       "Erlang                  73596.0\n",
       "Perl                    73433.0\n",
       "Ruby                    72696.0\n",
       "Rust                    72230.0\n",
       "CoffeeScript            70000.0\n",
       "Ocaml                   70000.0\n",
       "R                       68537.0\n",
       "Bash/Shell              64866.0\n",
       "Julia                   63642.0\n",
       "Objective-C             62418.0\n",
       "TypeScript              62412.0\n",
       "Python                  60000.0\n",
       "Lua                     59980.0\n",
       "Swift                   59970.0\n",
       "C#                      59000.0\n",
       "Cobol                   58749.0\n",
       "SQL                     56400.0\n",
       "JavaScript              56298.0\n",
       "C                       55562.0\n",
       "Haskell                 55562.0\n",
       "Java                    55075.0\n",
       "Kotlin                  55075.0\n",
       "VBA                     55000.0\n",
       "CSS                     55000.0\n",
       "HTML                    55000.0\n",
       "VB.NET                  51408.0\n",
       "C++                     50000.0\n",
       "Delphi/Object Pascal    48312.0\n",
       "Visual Basic 6          46507.0\n",
       "Assembly                43275.0\n",
       "Matlab                  42348.0\n",
       "PHP                     42178.0\n",
       "Name: LangType_ConvertedSalary, dtype: float64"
      ]
     },
     "execution_count": 10,
     "metadata": {},
     "output_type": "execute_result"
    }
   ],
   "source": [
    "langtype_salary = pd.Series([df[langtype_index[i].fillna(False)]['ConvertedSalary'].median()\n",
    "                            for i in np.arange(len(all_langs))],\n",
    "                           index=all_langs,\n",
    "                           name='LangType_ConvertedSalary')\n",
    "\n",
    "langtype_salary = langtype_salary.sort_values(ascending=False)\n",
    "\n",
    "langtype_salary"
   ]
  },
  {
   "cell_type": "markdown",
   "metadata": {},
   "source": [
    "Clojure, F#, and Go? Didn't see that coming. Guessing that probably has something to do with the relative rarity of those langauges."
   ]
  },
  {
   "cell_type": "code",
   "execution_count": 11,
   "metadata": {},
   "outputs": [
    {
     "data": {
      "text/plain": [
       "<matplotlib.axes._subplots.AxesSubplot at 0x7f1f68e906a0>"
      ]
     },
     "execution_count": 11,
     "metadata": {},
     "output_type": "execute_result"
    },
    {
     "data": {
      "image/png": "[encoded data removed]",
      "text/plain": [
       "<Figure size 864x432 with 1 Axes>"
      ]
     },
     "metadata": {
      "needs_background": "light"
     },
     "output_type": "display_data"
    }
   ],
   "source": [
    "langtype_salary.plot(kind='bar', figsize=(12, 6))"
   ]
  },
  {
   "cell_type": "markdown",
   "metadata": {},
   "source": [
    "## Question 6\n",
    "#### Are the best paid jobs the most satisfying?"
   ]
  },
  {
   "cell_type": "markdown",
   "metadata": {},
   "source": [
    "Here we're looking not at the jobs, but at three key factors - salary, and our two satisifcation measures. "
   ]
  },
  {
   "cell_type": "code",
   "execution_count": 38,
   "metadata": {},
   "outputs": [],
   "source": [
    "q_df = df_public.loc[:,[\n",
    "      'ConvertedSalary'\n",
    "    , 'JobSatisfaction'\n",
    "    , 'CareerSatisfaction'\n",
    "]]"
   ]
  },
  {
   "cell_type": "markdown",
   "metadata": {},
   "source": [
    "A quick peek at the data"
   ]
  },
  {
   "cell_type": "code",
   "execution_count": 13,
   "metadata": {},
   "outputs": [
    {
     "data": {
      "text/html": [
       "<div>\n",
       "<style scoped>\n",
       "    .dataframe tbody tr th:only-of-type {\n",
       "        vertical-align: middle;\n",
       "    }\n",
       "\n",
       "    .dataframe tbody tr th {\n",
       "        vertical-align: top;\n",
       "    }\n",
       "\n",
       "    .dataframe thead th {\n",
       "        text-align: right;\n",
       "    }\n",
       "</style>\n",
       "<table border=\"1\" class=\"dataframe\">\n",
       "  <thead>\n",
       "    <tr style=\"text-align: right;\">\n",
       "      <th></th>\n",
       "      <th>ConvertedSalary</th>\n",
       "      <th>JobSatisfaction</th>\n",
       "      <th>CareerSatisfaction</th>\n",
       "    </tr>\n",
       "  </thead>\n",
       "  <tbody>\n",
       "    <tr>\n",
       "      <th>0</th>\n",
       "      <td>NaN</td>\n",
       "      <td>Extremely satisfied</td>\n",
       "      <td>Extremely satisfied</td>\n",
       "    </tr>\n",
       "    <tr>\n",
       "      <th>1</th>\n",
       "      <td>70841.0</td>\n",
       "      <td>Moderately dissatisfied</td>\n",
       "      <td>Neither satisfied nor dissatisfied</td>\n",
       "    </tr>\n",
       "    <tr>\n",
       "      <th>2</th>\n",
       "      <td>NaN</td>\n",
       "      <td>Moderately satisfied</td>\n",
       "      <td>Moderately satisfied</td>\n",
       "    </tr>\n",
       "    <tr>\n",
       "      <th>3</th>\n",
       "      <td>NaN</td>\n",
       "      <td>Neither satisfied nor dissatisfied</td>\n",
       "      <td>Slightly dissatisfied</td>\n",
       "    </tr>\n",
       "    <tr>\n",
       "      <th>4</th>\n",
       "      <td>21426.0</td>\n",
       "      <td>Slightly satisfied</td>\n",
       "      <td>Moderately satisfied</td>\n",
       "    </tr>\n",
       "  </tbody>\n",
       "</table>\n",
       "</div>"
      ],
      "text/plain": [
       "   ConvertedSalary                     JobSatisfaction  \\\n",
       "0              NaN                 Extremely satisfied   \n",
       "1          70841.0             Moderately dissatisfied   \n",
       "2              NaN                Moderately satisfied   \n",
       "3              NaN  Neither satisfied nor dissatisfied   \n",
       "4          21426.0                  Slightly satisfied   \n",
       "\n",
       "                   CareerSatisfaction  \n",
       "0                 Extremely satisfied  \n",
       "1  Neither satisfied nor dissatisfied  \n",
       "2                Moderately satisfied  \n",
       "3               Slightly dissatisfied  \n",
       "4                Moderately satisfied  "
      ]
     },
     "execution_count": 13,
     "metadata": {},
     "output_type": "execute_result"
    }
   ],
   "source": [
    "q_df.head()"
   ]
  },
  {
   "cell_type": "markdown",
   "metadata": {},
   "source": [
    "And a look at the info to see how many non non-null values each column has. Looks like roughly half the respondants didn't have a salary. "
   ]
  },
  {
   "cell_type": "code",
   "execution_count": 14,
   "metadata": {},
   "outputs": [
    {
     "name": "stdout",
     "output_type": "stream",
     "text": [
      "<class 'pandas.core.frame.DataFrame'>\n",
      "RangeIndex: 98855 entries, 0 to 98854\n",
      "Data columns (total 3 columns):\n",
      "ConvertedSalary       47702 non-null float64\n",
      "JobSatisfaction       69276 non-null object\n",
      "CareerSatisfaction    76504 non-null object\n",
      "dtypes: float64(1), object(2)\n",
      "memory usage: 2.3+ MB\n"
     ]
    }
   ],
   "source": [
    "q_df.info()"
   ]
  },
  {
   "cell_type": "markdown",
   "metadata": {},
   "source": [
    "Since `ConvertedSalary` was the bulk of NaN values, I took a gamble and just dropped all null values."
   ]
  },
  {
   "cell_type": "code",
   "execution_count": 39,
   "metadata": {},
   "outputs": [],
   "source": [
    "q_df.dropna(inplace=True)"
   ]
  },
  {
   "cell_type": "code",
   "execution_count": 40,
   "metadata": {},
   "outputs": [
    {
     "name": "stdout",
     "output_type": "stream",
     "text": [
      "<class 'pandas.core.frame.DataFrame'>\n",
      "Int64Index: 45181 entries, 1 to 80449\n",
      "Data columns (total 3 columns):\n",
      "ConvertedSalary       45181 non-null float64\n",
      "JobSatisfaction       45181 non-null object\n",
      "CareerSatisfaction    45181 non-null object\n",
      "dtypes: float64(1), object(2)\n",
      "memory usage: 1.4+ MB\n"
     ]
    }
   ],
   "source": [
    "q_df.info()"
   ]
  },
  {
   "cell_type": "markdown",
   "metadata": {},
   "source": [
    "Another quick peek at the leftover data. "
   ]
  },
  {
   "cell_type": "code",
   "execution_count": 18,
   "metadata": {},
   "outputs": [
    {
     "name": "stdout",
     "output_type": "stream",
     "text": [
      "Column: ConvertedSalary | Values: [ 70841.  21426.  41671. ... 156748. 150144.  77928.]\n",
      "Column: JobSatisfaction | Values: ['Moderately dissatisfied' 'Slightly satisfied' 'Moderately satisfied'\n",
      " 'Neither satisfied nor dissatisfied' 'Slightly dissatisfied'\n",
      " 'Extremely dissatisfied' 'Extremely satisfied']\n",
      "Column: CareerSatisfaction | Values: ['Neither satisfied nor dissatisfied' 'Moderately satisfied'\n",
      " 'Slightly satisfied' 'Moderately dissatisfied' 'Slightly dissatisfied'\n",
      " 'Extremely satisfied' 'Extremely dissatisfied']\n"
     ]
    }
   ],
   "source": [
    "for col in q_df.columns:\n",
    "    print('Column: {} | Values: {}'.format(col, q_df[col].unique()))"
   ]
  },
  {
   "cell_type": "markdown",
   "metadata": {},
   "source": [
    "Now we establish salary quartiles"
   ]
  },
  {
   "cell_type": "code",
   "execution_count": 19,
   "metadata": {},
   "outputs": [
    {
     "name": "stdout",
     "output_type": "stream",
     "text": [
      "26925.0 95000.0 68075.0\n"
     ]
    }
   ],
   "source": [
    "q1 = q_df['ConvertedSalary'].quantile(0.25)\n",
    "q3 = q_df['ConvertedSalary'].quantile(0.75)\n",
    "IQR = q3 - q1\n",
    "print(q1, q3, IQR)"
   ]
  },
  {
   "cell_type": "markdown",
   "metadata": {},
   "source": [
    "#### REMOVE ROWS WITH OUTLIER SALARIES"
   ]
  },
  {
   "cell_type": "code",
   "execution_count": 20,
   "metadata": {},
   "outputs": [],
   "source": [
    "ub = q_df['ConvertedSalary'] <= (q3 + (1.5 * IQR))\n",
    "\n",
    "q_df = q_df[ub]"
   ]
  },
  {
   "cell_type": "markdown",
   "metadata": {},
   "source": [
    "As you can see in the boxplot, we didn't quite get rid of all outliars, but we trimmed the most egregious. "
   ]
  },
  {
   "cell_type": "code",
   "execution_count": 21,
   "metadata": {},
   "outputs": [
    {
     "data": {
      "text/plain": [
       "<matplotlib.axes._subplots.AxesSubplot at 0x7f1f6a30ba20>"
      ]
     },
     "execution_count": 21,
     "metadata": {},
     "output_type": "execute_result"
    },
    {
     "data": {
      "image/png": "[encoded data removed]",
      "text/plain": [
       "<Figure size 432x288 with 1 Axes>"
      ]
     },
     "metadata": {
      "needs_background": "light"
     },
     "output_type": "display_data"
    }
   ],
   "source": [
    "sns.boxplot(q_df['ConvertedSalary'])"
   ]
  },
  {
   "cell_type": "markdown",
   "metadata": {},
   "source": [
    "#### Create Categories"
   ]
  },
  {
   "cell_type": "markdown",
   "metadata": {},
   "source": [
    "Next, it's time to turn string values into ordered categories so we can create some groups"
   ]
  },
  {
   "cell_type": "code",
   "execution_count": 47,
   "metadata": {},
   "outputs": [],
   "source": [
    "q_df['JobSatisfaction'] = q_df['JobSatisfaction'].astype(CategoricalDtype([\n",
    "    'Extremely dissatisfied',\n",
    "    'Moderately dissatisfied',\n",
    "    'Slightly dissatisfied', \n",
    "    'Neither satisfied nor dissatisfied',\n",
    "    'Slightly satisfied',\n",
    "    'Moderately satisfied',\n",
    "    'Extremely satisfied'    \n",
    "], ordered=True))"
   ]
  },
  {
   "cell_type": "code",
   "execution_count": 48,
   "metadata": {},
   "outputs": [],
   "source": [
    "q_df['CareerSatisfaction'] = q_df['CareerSatisfaction'].astype(CategoricalDtype([\n",
    "    'Extremely dissatisfied',\n",
    "    'Moderately dissatisfied',\n",
    "    'Slightly dissatisfied', \n",
    "    'Neither satisfied nor dissatisfied',\n",
    "    'Slightly satisfied',\n",
    "    'Moderately satisfied',\n",
    "    'Extremely satisfied'    \n",
    "], ordered=True))"
   ]
  },
  {
   "cell_type": "code",
   "execution_count": 49,
   "metadata": {},
   "outputs": [
    {
     "data": {
      "text/plain": [
       "Index(['JobSatisfaction', 'CareerSatisfaction'], dtype='object')"
      ]
     },
     "execution_count": 49,
     "metadata": {},
     "output_type": "execute_result"
    }
   ],
   "source": [
    "cat_columns = q_df.select_dtypes(['category']).columns\n",
    "cat_columns"
   ]
  },
  {
   "cell_type": "code",
   "execution_count": 50,
   "metadata": {},
   "outputs": [],
   "source": [
    "q_df[cat_columns] = q_df[cat_columns].apply(lambda x: x.cat.codes)"
   ]
  },
  {
   "cell_type": "code",
   "execution_count": 51,
   "metadata": {},
   "outputs": [
    {
     "name": "stdout",
     "output_type": "stream",
     "text": [
      "<class 'pandas.core.frame.DataFrame'>\n",
      "Int64Index: 45181 entries, 1 to 80449\n",
      "Data columns (total 4 columns):\n",
      "ConvertedSalary       45181 non-null float64\n",
      "JobSatisfaction       45181 non-null int8\n",
      "CareerSatisfaction    45181 non-null int8\n",
      "SalaryBins            45181 non-null int64\n",
      "dtypes: float64(1), int64(1), int8(2)\n",
      "memory usage: 1.1 MB\n"
     ]
    }
   ],
   "source": [
    "q_df.info()"
   ]
  },
  {
   "cell_type": "markdown",
   "metadata": {},
   "source": [
    "No more strings, just floats and ints as far as the eye can see. Let's take a look at that data just to be sure."
   ]
  },
  {
   "cell_type": "code",
   "execution_count": 52,
   "metadata": {},
   "outputs": [
    {
     "data": {
      "text/html": [
       "<div>\n",
       "<style scoped>\n",
       "    .dataframe tbody tr th:only-of-type {\n",
       "        vertical-align: middle;\n",
       "    }\n",
       "\n",
       "    .dataframe tbody tr th {\n",
       "        vertical-align: top;\n",
       "    }\n",
       "\n",
       "    .dataframe thead th {\n",
       "        text-align: right;\n",
       "    }\n",
       "</style>\n",
       "<table border=\"1\" class=\"dataframe\">\n",
       "  <thead>\n",
       "    <tr style=\"text-align: right;\">\n",
       "      <th></th>\n",
       "      <th>ConvertedSalary</th>\n",
       "      <th>JobSatisfaction</th>\n",
       "      <th>CareerSatisfaction</th>\n",
       "      <th>SalaryBins</th>\n",
       "    </tr>\n",
       "  </thead>\n",
       "  <tbody>\n",
       "    <tr>\n",
       "      <th>1</th>\n",
       "      <td>70841.0</td>\n",
       "      <td>1</td>\n",
       "      <td>3</td>\n",
       "      <td>4</td>\n",
       "    </tr>\n",
       "    <tr>\n",
       "      <th>4</th>\n",
       "      <td>21426.0</td>\n",
       "      <td>4</td>\n",
       "      <td>5</td>\n",
       "      <td>1</td>\n",
       "    </tr>\n",
       "    <tr>\n",
       "      <th>5</th>\n",
       "      <td>41671.0</td>\n",
       "      <td>5</td>\n",
       "      <td>4</td>\n",
       "      <td>2</td>\n",
       "    </tr>\n",
       "    <tr>\n",
       "      <th>6</th>\n",
       "      <td>120000.0</td>\n",
       "      <td>4</td>\n",
       "      <td>5</td>\n",
       "      <td>5</td>\n",
       "    </tr>\n",
       "    <tr>\n",
       "      <th>8</th>\n",
       "      <td>250000.0</td>\n",
       "      <td>5</td>\n",
       "      <td>5</td>\n",
       "      <td>6</td>\n",
       "    </tr>\n",
       "  </tbody>\n",
       "</table>\n",
       "</div>"
      ],
      "text/plain": [
       "   ConvertedSalary  JobSatisfaction  CareerSatisfaction  SalaryBins\n",
       "1          70841.0                1                   3           4\n",
       "4          21426.0                4                   5           1\n",
       "5          41671.0                5                   4           2\n",
       "6         120000.0                4                   5           5\n",
       "8         250000.0                5                   5           6"
      ]
     },
     "execution_count": 52,
     "metadata": {},
     "output_type": "execute_result"
    }
   ],
   "source": [
    "q_df.head()"
   ]
  },
  {
   "cell_type": "markdown",
   "metadata": {},
   "source": [
    "As we can see from the values below, converting our Satisifactions into numerical categories got us a range of 0 to 6 (7 buckets)"
   ]
  },
  {
   "cell_type": "code",
   "execution_count": 53,
   "metadata": {},
   "outputs": [
    {
     "name": "stdout",
     "output_type": "stream",
     "text": [
      "Column: ConvertedSalary | Values: [ 70841.  21426.  41671. ... 156748. 150144.  77928.]\n",
      "Column: JobSatisfaction | Values: [1 4 5 3 2 0 6]\n",
      "Column: CareerSatisfaction | Values: [3 5 4 1 2 6 0]\n",
      "Column: SalaryBins | Values: [4 1 2 5 6 0 3]\n"
     ]
    }
   ],
   "source": [
    "for col in q_df.columns:\n",
    "    print('Column: {} | Values: {}'.format(col, q_df[col].unique()))"
   ]
  },
  {
   "cell_type": "markdown",
   "metadata": {},
   "source": [
    "Since I have 7 satisfaction buckets, I wanted to create an equal number of salary buckets. That way, we can see if average satisifcation score increases as the buckets increase and have a nice 1:1 ratio"
   ]
  },
  {
   "cell_type": "code",
   "execution_count": 54,
   "metadata": {},
   "outputs": [],
   "source": [
    "q_df['SalaryBins'] = pd.qcut(q_df[\"ConvertedSalary\"], 7, labels=False)"
   ]
  },
  {
   "cell_type": "code",
   "execution_count": 55,
   "metadata": {},
   "outputs": [
    {
     "data": {
      "text/html": [
       "<div>\n",
       "<style scoped>\n",
       "    .dataframe tbody tr th:only-of-type {\n",
       "        vertical-align: middle;\n",
       "    }\n",
       "\n",
       "    .dataframe tbody tr th {\n",
       "        vertical-align: top;\n",
       "    }\n",
       "\n",
       "    .dataframe thead th {\n",
       "        text-align: right;\n",
       "    }\n",
       "</style>\n",
       "<table border=\"1\" class=\"dataframe\">\n",
       "  <thead>\n",
       "    <tr style=\"text-align: right;\">\n",
       "      <th></th>\n",
       "      <th>ConvertedSalary</th>\n",
       "      <th>JobSatisfaction</th>\n",
       "      <th>CareerSatisfaction</th>\n",
       "      <th>SalaryBins</th>\n",
       "    </tr>\n",
       "  </thead>\n",
       "  <tbody>\n",
       "    <tr>\n",
       "      <th>1</th>\n",
       "      <td>70841.0</td>\n",
       "      <td>1</td>\n",
       "      <td>3</td>\n",
       "      <td>4</td>\n",
       "    </tr>\n",
       "    <tr>\n",
       "      <th>4</th>\n",
       "      <td>21426.0</td>\n",
       "      <td>4</td>\n",
       "      <td>5</td>\n",
       "      <td>1</td>\n",
       "    </tr>\n",
       "    <tr>\n",
       "      <th>5</th>\n",
       "      <td>41671.0</td>\n",
       "      <td>5</td>\n",
       "      <td>4</td>\n",
       "      <td>2</td>\n",
       "    </tr>\n",
       "    <tr>\n",
       "      <th>6</th>\n",
       "      <td>120000.0</td>\n",
       "      <td>4</td>\n",
       "      <td>5</td>\n",
       "      <td>5</td>\n",
       "    </tr>\n",
       "    <tr>\n",
       "      <th>8</th>\n",
       "      <td>250000.0</td>\n",
       "      <td>5</td>\n",
       "      <td>5</td>\n",
       "      <td>6</td>\n",
       "    </tr>\n",
       "  </tbody>\n",
       "</table>\n",
       "</div>"
      ],
      "text/plain": [
       "   ConvertedSalary  JobSatisfaction  CareerSatisfaction  SalaryBins\n",
       "1          70841.0                1                   3           4\n",
       "4          21426.0                4                   5           1\n",
       "5          41671.0                5                   4           2\n",
       "6         120000.0                4                   5           5\n",
       "8         250000.0                5                   5           6"
      ]
     },
     "execution_count": 55,
     "metadata": {},
     "output_type": "execute_result"
    }
   ],
   "source": [
    "q_df.head()"
   ]
  },
  {
   "cell_type": "markdown",
   "metadata": {},
   "source": [
    "### Examine some correlations"
   ]
  },
  {
   "cell_type": "code",
   "execution_count": 56,
   "metadata": {},
   "outputs": [
    {
     "data": {
      "text/html": [
       "<div>\n",
       "<style scoped>\n",
       "    .dataframe tbody tr th:only-of-type {\n",
       "        vertical-align: middle;\n",
       "    }\n",
       "\n",
       "    .dataframe tbody tr th {\n",
       "        vertical-align: top;\n",
       "    }\n",
       "\n",
       "    .dataframe thead th {\n",
       "        text-align: right;\n",
       "    }\n",
       "</style>\n",
       "<table border=\"1\" class=\"dataframe\">\n",
       "  <thead>\n",
       "    <tr style=\"text-align: right;\">\n",
       "      <th></th>\n",
       "      <th>ConvertedSalary</th>\n",
       "      <th>JobSatisfaction</th>\n",
       "      <th>CareerSatisfaction</th>\n",
       "      <th>SalaryBins</th>\n",
       "    </tr>\n",
       "  </thead>\n",
       "  <tbody>\n",
       "    <tr>\n",
       "      <th>ConvertedSalary</th>\n",
       "      <td>1.000</td>\n",
       "      <td>0.018</td>\n",
       "      <td>0.040</td>\n",
       "      <td>0.465</td>\n",
       "    </tr>\n",
       "    <tr>\n",
       "      <th>JobSatisfaction</th>\n",
       "      <td>0.018</td>\n",
       "      <td>1.000</td>\n",
       "      <td>0.580</td>\n",
       "      <td>0.106</td>\n",
       "    </tr>\n",
       "    <tr>\n",
       "      <th>CareerSatisfaction</th>\n",
       "      <td>0.040</td>\n",
       "      <td>0.580</td>\n",
       "      <td>1.000</td>\n",
       "      <td>0.158</td>\n",
       "    </tr>\n",
       "    <tr>\n",
       "      <th>SalaryBins</th>\n",
       "      <td>0.465</td>\n",
       "      <td>0.106</td>\n",
       "      <td>0.158</td>\n",
       "      <td>1.000</td>\n",
       "    </tr>\n",
       "  </tbody>\n",
       "</table>\n",
       "</div>"
      ],
      "text/plain": [
       "                    ConvertedSalary  JobSatisfaction  CareerSatisfaction  \\\n",
       "ConvertedSalary               1.000            0.018               0.040   \n",
       "JobSatisfaction               0.018            1.000               0.580   \n",
       "CareerSatisfaction            0.040            0.580               1.000   \n",
       "SalaryBins                    0.465            0.106               0.158   \n",
       "\n",
       "                    SalaryBins  \n",
       "ConvertedSalary          0.465  \n",
       "JobSatisfaction          0.106  \n",
       "CareerSatisfaction       0.158  \n",
       "SalaryBins               1.000  "
      ]
     },
     "execution_count": 56,
     "metadata": {},
     "output_type": "execute_result"
    }
   ],
   "source": [
    "q_df.corr().round(3)"
   ]
  },
  {
   "cell_type": "code",
   "execution_count": 57,
   "metadata": {},
   "outputs": [
    {
     "data": {
      "text/plain": [
       "<matplotlib.axes._subplots.AxesSubplot at 0x7f1f6a294128>"
      ]
     },
     "execution_count": 57,
     "metadata": {},
     "output_type": "execute_result"
    },
    {
     "data": {
      "image/png": "[encoded data removed]",
      "text/plain": [
       "<Figure size 432x288 with 2 Axes>"
      ]
     },
     "metadata": {
      "needs_background": "light"
     },
     "output_type": "display_data"
    }
   ],
   "source": [
    "# correlation heatmap\n",
    "cmap = plt.cm.get_cmap(\"bwr\",lut=5) \n",
    "\n",
    "sns.heatmap(q_df.corr().values, vmin=-1., vmax=1.,\n",
    "            cmap=cmap,\n",
    "            xticklabels=list(q_df.columns),\n",
    "            yticklabels=list(q_df.columns))"
   ]
  },
  {
   "cell_type": "markdown",
   "metadata": {},
   "source": [
    "Looking at correlations, it looks like there's nothing really strong. Let's do some 1:1s"
   ]
  },
  {
   "cell_type": "code",
   "execution_count": 60,
   "metadata": {},
   "outputs": [
    {
     "data": {
      "text/plain": [
       "0.10620298642553401"
      ]
     },
     "execution_count": 60,
     "metadata": {},
     "output_type": "execute_result"
    }
   ],
   "source": [
    "q_df['SalaryBins'].corr(q_df['JobSatisfaction'])"
   ]
  },
  {
   "cell_type": "code",
   "execution_count": 61,
   "metadata": {},
   "outputs": [
    {
     "data": {
      "text/plain": [
       "0.15827462169766443"
      ]
     },
     "execution_count": 61,
     "metadata": {},
     "output_type": "execute_result"
    }
   ],
   "source": [
    "q_df['SalaryBins'].corr(q_df['CareerSatisfaction'])"
   ]
  },
  {
   "cell_type": "code",
   "execution_count": 62,
   "metadata": {},
   "outputs": [
    {
     "data": {
      "text/plain": [
       "0.5797263865199026"
      ]
     },
     "execution_count": 62,
     "metadata": {},
     "output_type": "execute_result"
    }
   ],
   "source": [
    "q_df['JobSatisfaction'].corr(q_df['CareerSatisfaction'])"
   ]
  },
  {
   "cell_type": "markdown",
   "metadata": {},
   "source": [
    "Let's look at some averages. If `ConvertedSalary` increases mapped to JobSatisfaction increases, we'd hope for a steady climb here. IN the end, it looks like we've got a U shape. High earners at both end of the satisifcation spectrum."
   ]
  },
  {
   "cell_type": "code",
   "execution_count": 63,
   "metadata": {},
   "outputs": [
    {
     "name": "stdout",
     "output_type": "stream",
     "text": [
      "                 ConvertedSalary  CareerSatisfaction  SalaryBins\n",
      "JobSatisfaction                                                 \n",
      "0                  109295.736328            2.078776    2.799479\n",
      "1                  101858.400889            2.600983    2.899602\n",
      "2                   90321.487273            3.381176    2.743529\n",
      "3                   84646.154128            3.491376    2.422752\n",
      "4                   86397.174232            4.076431    2.625331\n",
      "5                   97468.735781            4.763086    3.074246\n",
      "6                  116340.588045            5.355175    3.526833\n"
     ]
    }
   ],
   "source": [
    "print(q_df.groupby('JobSatisfaction').mean())"
   ]
  },
  {
   "cell_type": "markdown",
   "metadata": {},
   "source": [
    "CareerSatisfaction has a slightly better increase, but the average `ConvertedSalary` values are really low, meaning we're not seeing a concentration of high earners at the top."
   ]
  },
  {
   "cell_type": "code",
   "execution_count": 36,
   "metadata": {},
   "outputs": [
    {
     "name": "stdout",
     "output_type": "stream",
     "text": [
      "                    ConvertedSalary  JobSatisfaction  SalaryBins\n",
      "CareerSatisfaction                                              \n",
      "0                      50668.123793         1.542581    2.464442\n",
      "1                      49946.077172         1.963747    2.524408\n",
      "2                      50504.667326         2.727247    2.533917\n",
      "3                      45692.545597         3.196086    2.309980\n",
      "4                      52825.183320         3.856150    2.650538\n",
      "5                      65040.835462         4.536751    3.239125\n",
      "6                      69943.254357         5.181189    3.419193\n"
     ]
    }
   ],
   "source": [
    "print(q_df.groupby('CareerSatisfaction').mean())"
   ]
  },
  {
   "cell_type": "markdown",
   "metadata": {},
   "source": [
    "Finally, by sorting via `SalaryBins`, we can see a pretty similar `JobSatisfaction` and `CareerSatisfaction` for bins the upper 50% of earners. There's a slight increase, but it seems like ConvertedSalary might be the best indicator of satisifaction."
   ]
  },
  {
   "cell_type": "code",
   "execution_count": 37,
   "metadata": {},
   "outputs": [
    {
     "name": "stdout",
     "output_type": "stream",
     "text": [
      "            ConvertedSalary  JobSatisfaction  CareerSatisfaction\n",
      "SalaryBins                                                      \n",
      "0               6767.534406         3.687141            3.872064\n",
      "1              21072.252194         3.887390            3.974651\n",
      "2              37900.596119         4.009454            4.115774\n",
      "3              54184.712461         4.117079            4.260357\n",
      "4              71104.048065         4.136935            4.366935\n",
      "5              94518.845280         4.283040            4.528000\n",
      "6             137935.620791         4.325850            4.670178\n"
     ]
    }
   ],
   "source": [
    "print(q_df.groupby('SalaryBins').mean())"
   ]
  },
  {
   "cell_type": "code",
   "execution_count": null,
   "metadata": {},
   "outputs": [],
   "source": []
  }
 ],
 "metadata": {
  "kernelspec": {
   "display_name": "Python 3",
   "language": "python",
   "name": "python3"
  },
  "language_info": {
   "codemirror_mode": {
    "name": "ipython",
    "version": 3
   },
   "file_extension": ".py",
   "mimetype": "text/x-python",
   "name": "python",
   "nbconvert_exporter": "python",
   "pygments_lexer": "ipython3",
   "version": "3.7.2"
  }
 },
 "nbformat": 4,
 "nbformat_minor": 2
}
