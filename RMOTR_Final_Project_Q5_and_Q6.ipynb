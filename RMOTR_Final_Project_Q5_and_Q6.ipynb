{
 "cells": [
  {
   "cell_type": "markdown",
   "metadata": {},
   "source": [
    "### RMOTR FINAL PROJECT\n",
    "##### STACKOVERFLOW 2018 SURVEY RESULT ANALYSIS"
   ]
  },
  {
   "cell_type": "code",
   "execution_count": 1,
   "metadata": {},
   "outputs": [
    {
     "name": "stderr",
     "output_type": "stream",
     "text": [
      "Using TensorFlow backend.\n"
     ]
    }
   ],
   "source": [
    "# Initiliaze Common Packages/Libraries\n",
    "import pandas as pd\n",
    "import numpy as np\n",
    "import matplotlib.pyplot as plt\n",
    "import seaborn as sns\n",
    "import csv\n",
    "from zipfile import ZipFile\n",
    "from pandas.api.types import CategoricalDtype\n",
    "from sklearn.preprocessing import OneHotEncoder\n",
    "from keras.models import Sequential\n",
    "from keras.layers import Dense\n",
    "from keras.optimizers import SGD,Adam\n",
    "\n",
    "\n",
    "import warnings\n",
    "warnings.filterwarnings('ignore')\n",
    "\n",
    "sns.set(rc={'figure.figsize': (14, 7)})"
   ]
  },
  {
   "cell_type": "code",
   "execution_count": 2,
   "metadata": {},
   "outputs": [],
   "source": [
    "def mem_usage(pandas_obj):\n",
    "    if isinstance(pandas_obj,pd.DataFrame):\n",
    "        usage_b = pandas_obj.memory_usage(deep=True).sum()\n",
    "    else: # we assume if not a df it's a series\n",
    "        usage_b = pandas_obj.memory_usage(deep=True)\n",
    "    usage_mb = usage_b / 1024 ** 2 # convert bytes to megabytes\n",
    "    return \"{:03.2f} MB\".format(usage_mb)"
   ]
  },
  {
   "cell_type": "code",
   "execution_count": 3,
   "metadata": {},
   "outputs": [],
   "source": [
    "df_public = pd.read_csv('data/survey_results_public.csv')\n",
    "df_schema = pd.read_csv('data/survey_results_schema.csv')\n",
    "\n",
    "## Summary of the Dataset:\n",
    "## The dataset contians answers to various questions asked to respondents who have used StackOverflow. \n",
    "## Questions include categories about the respondent (for example: Which country they're from, what race they are, what's their education background, etc.)\n",
    "## Additional there are questions that dive in deeper into respondent's sentiment about career, and skills they use related to coding.\n",
    "## there are also behavioral questions about the respondents which can help us understand who that person is.\n"
   ]
  },
  {
   "cell_type": "code",
   "execution_count": 4,
   "metadata": {},
   "outputs": [
    {
     "name": "stdout",
     "output_type": "stream",
     "text": [
      "<class 'pandas.core.frame.DataFrame'>\n",
      "RangeIndex: 98855 entries, 0 to 98854\n",
      "Columns: 129 entries, Respondent to SurveyEasy\n",
      "dtypes: float64(41), int64(1), object(87)\n",
      "memory usage: 97.3+ MB\n"
     ]
    }
   ],
   "source": [
    "df_public.info()"
   ]
  },
  {
   "cell_type": "markdown",
   "metadata": {},
   "source": [
    "## Question 5"
   ]
  },
  {
   "cell_type": "markdown",
   "metadata": {},
   "source": [
    "#### Which are the most popular programming languages? And which are the highest-paying ones?"
   ]
  },
  {
   "cell_type": "code",
   "execution_count": 5,
   "metadata": {},
   "outputs": [],
   "source": [
    "df = pd.read_csv('data/survey_results_public.csv')"
   ]
  },
  {
   "cell_type": "code",
   "execution_count": 6,
   "metadata": {},
   "outputs": [
    {
     "data": {
      "text/plain": [
       "array(['JavaScript', 'Python', 'HTML', 'CSS', 'Bash/Shell', 'C#', 'SQL',\n",
       "       'TypeScript', 'C', 'C++', 'Java', 'Matlab', 'R', 'Assembly',\n",
       "       'CoffeeScript', 'Erlang', 'Go', 'Lua', 'Ruby', 'PHP', 'VB.NET',\n",
       "       'Swift', 'Groovy', 'Kotlin', 'Objective-C', 'Scala', 'F#',\n",
       "       'Haskell', 'Rust', 'Julia', 'VBA', 'Perl', 'Cobol',\n",
       "       'Visual Basic 6', 'Delphi/Object Pascal', 'Hack', 'Clojure',\n",
       "       'Ocaml'], dtype=object)"
      ]
     },
     "execution_count": 6,
     "metadata": {},
     "output_type": "execute_result"
    }
   ],
   "source": [
    "all_langs = df['LanguageWorkedWith'].str.split(';', expand=True).stack().unique()\n",
    "all_langs"
   ]
  },
  {
   "cell_type": "code",
   "execution_count": 7,
   "metadata": {},
   "outputs": [
    {
     "data": {
      "text/plain": [
       "C                       67063\n",
       "Java                    64912\n",
       "JavaScript              54686\n",
       "HTML                    53628\n",
       "CSS                     50979\n",
       "SQL                     44670\n",
       "Bash/Shell              31172\n",
       "Python                  30359\n",
       "C#                      26954\n",
       "PHP                     24071\n",
       "C++                     19872\n",
       "TypeScript              13626\n",
       "R                       13348\n",
       "Ruby                     7911\n",
       "Swift                    6310\n",
       "Assembly                 5760\n",
       "Go                       5532\n",
       "Objective-C              5510\n",
       "VB.NET                   5254\n",
       "Matlab                   4564\n",
       "VBA                      3810\n",
       "Kotlin                   3508\n",
       "Scala                    3420\n",
       "Groovy                   3373\n",
       "Perl                     3280\n",
       "Visual Basic 6           3087\n",
       "Lua                      2733\n",
       "CoffeeScript             2603\n",
       "Delphi/Object Pascal     2025\n",
       "Haskell                  1961\n",
       "Rust                     1857\n",
       "F#                       1115\n",
       "Clojure                  1032\n",
       "Erlang                    886\n",
       "Cobol                     590\n",
       "Ocaml                     470\n",
       "Julia                     430\n",
       "Hack                      254\n",
       "Name: LangType_count, dtype: int64"
      ]
     },
     "execution_count": 7,
     "metadata": {},
     "output_type": "execute_result"
    }
   ],
   "source": [
    "langtype_count = pd.Series([df.loc[:, 'LanguageWorkedWith'].str.contains(lang, regex=False).sum()\n",
    "                           for lang in all_langs],\n",
    "                          index=all_langs,\n",
    "                          name='LangType_count')\n",
    "\n",
    "langtype_count = langtype_count.sort_values(ascending=False)\n",
    "\n",
    "langtype_count"
   ]
  },
  {
   "cell_type": "code",
   "execution_count": 8,
   "metadata": {},
   "outputs": [
    {
     "data": {
      "text/plain": [
       "<matplotlib.axes._subplots.AxesSubplot at 0x7f8fe03716a0>"
      ]
     },
     "execution_count": 8,
     "metadata": {},
     "output_type": "execute_result"
    },
    {
     "data": {
      "image/png": "[encoded data removed]",
      "text/plain": [
       "<Figure size 864x432 with 1 Axes>"
      ]
     },
     "metadata": {
      "needs_background": "light"
     },
     "output_type": "display_data"
    }
   ],
   "source": [
    "langtype_count.plot(kind='bar', figsize=(12, 6))"
   ]
  },
  {
   "cell_type": "code",
   "execution_count": 9,
   "metadata": {},
   "outputs": [],
   "source": [
    "langtype_index = pd.Series([df.loc[:, 'LanguageWorkedWith'].str.contains(lang, regex=False)\n",
    "                           for lang in all_langs],\n",
    "                          index=all_langs,\n",
    "                          name='LangType_count')"
   ]
  },
  {
   "cell_type": "code",
   "execution_count": 10,
   "metadata": {},
   "outputs": [
    {
     "data": {
      "text/plain": [
       "Clojure                 82904.0\n",
       "F#                      80366.5\n",
       "Go                      75175.0\n",
       "Hack                    75000.0\n",
       "Groovy                  75000.0\n",
       "Scala                   73906.0\n",
       "Erlang                  73596.0\n",
       "Perl                    73433.0\n",
       "Ruby                    72696.0\n",
       "Rust                    72230.0\n",
       "CoffeeScript            70000.0\n",
       "Ocaml                   70000.0\n",
       "R                       68537.0\n",
       "Bash/Shell              64866.0\n",
       "Julia                   63642.0\n",
       "Objective-C             62418.0\n",
       "TypeScript              62412.0\n",
       "Python                  60000.0\n",
       "Lua                     59980.0\n",
       "Swift                   59970.0\n",
       "C#                      59000.0\n",
       "Cobol                   58749.0\n",
       "SQL                     56400.0\n",
       "JavaScript              56298.0\n",
       "C                       55562.0\n",
       "Haskell                 55562.0\n",
       "Java                    55075.0\n",
       "Kotlin                  55075.0\n",
       "VBA                     55000.0\n",
       "CSS                     55000.0\n",
       "HTML                    55000.0\n",
       "VB.NET                  51408.0\n",
       "C++                     50000.0\n",
       "Delphi/Object Pascal    48312.0\n",
       "Visual Basic 6          46507.0\n",
       "Assembly                43275.0\n",
       "Matlab                  42348.0\n",
       "PHP                     42178.0\n",
       "Name: LangType_ConvertedSalary, dtype: float64"
      ]
     },
     "execution_count": 10,
     "metadata": {},
     "output_type": "execute_result"
    }
   ],
   "source": [
    "langtype_salary = pd.Series([df[langtype_index[i].fillna(False)]['ConvertedSalary'].median()\n",
    "                            for i in np.arange(len(all_langs))],\n",
    "                           index=all_langs,\n",
    "                           name='LangType_ConvertedSalary')\n",
    "\n",
    "langtype_salary = langtype_salary.sort_values(ascending=False)\n",
    "\n",
    "langtype_salary"
   ]
  },
  {
   "cell_type": "code",
   "execution_count": 11,
   "metadata": {},
   "outputs": [
    {
     "data": {
      "text/plain": [
       "<matplotlib.axes._subplots.AxesSubplot at 0x7f8f7ea04518>"
      ]
     },
     "execution_count": 11,
     "metadata": {},
     "output_type": "execute_result"
    },
    {
     "data": {
      "image/png": "[encoded data removed]",
      "text/plain": [
       "<Figure size 864x432 with 1 Axes>"
      ]
     },
     "metadata": {
      "needs_background": "light"
     },
     "output_type": "display_data"
    }
   ],
   "source": [
    "langtype_salary.plot(kind='bar', figsize=(12, 6))"
   ]
  },
  {
   "cell_type": "markdown",
   "metadata": {},
   "source": [
    "## Question 6\n",
    "#### Are the best paid jobs the most satisfying?"
   ]
  },
  {
   "cell_type": "code",
   "execution_count": 12,
   "metadata": {},
   "outputs": [],
   "source": [
    "q_df = df_public.loc[:,[\n",
    "      'ConvertedSalary'\n",
    "    , 'JobSatisfaction'\n",
    "    , 'CareerSatisfaction'\n",
    "]]"
   ]
  },
  {
   "cell_type": "code",
   "execution_count": 13,
   "metadata": {},
   "outputs": [
    {
     "data": {
      "text/html": [
       "<div>\n",
       "<style scoped>\n",
       "    .dataframe tbody tr th:only-of-type {\n",
       "        vertical-align: middle;\n",
       "    }\n",
       "\n",
       "    .dataframe tbody tr th {\n",
       "        vertical-align: top;\n",
       "    }\n",
       "\n",
       "    .dataframe thead th {\n",
       "        text-align: right;\n",
       "    }\n",
       "</style>\n",
       "<table border=\"1\" class=\"dataframe\">\n",
       "  <thead>\n",
       "    <tr style=\"text-align: right;\">\n",
       "      <th></th>\n",
       "      <th>ConvertedSalary</th>\n",
       "      <th>JobSatisfaction</th>\n",
       "      <th>CareerSatisfaction</th>\n",
       "    </tr>\n",
       "  </thead>\n",
       "  <tbody>\n",
       "    <tr>\n",
       "      <th>0</th>\n",
       "      <td>NaN</td>\n",
       "      <td>Extremely satisfied</td>\n",
       "      <td>Extremely satisfied</td>\n",
       "    </tr>\n",
       "    <tr>\n",
       "      <th>1</th>\n",
       "      <td>70841.0</td>\n",
       "      <td>Moderately dissatisfied</td>\n",
       "      <td>Neither satisfied nor dissatisfied</td>\n",
       "    </tr>\n",
       "    <tr>\n",
       "      <th>2</th>\n",
       "      <td>NaN</td>\n",
       "      <td>Moderately satisfied</td>\n",
       "      <td>Moderately satisfied</td>\n",
       "    </tr>\n",
       "    <tr>\n",
       "      <th>3</th>\n",
       "      <td>NaN</td>\n",
       "      <td>Neither satisfied nor dissatisfied</td>\n",
       "      <td>Slightly dissatisfied</td>\n",
       "    </tr>\n",
       "    <tr>\n",
       "      <th>4</th>\n",
       "      <td>21426.0</td>\n",
       "      <td>Slightly satisfied</td>\n",
       "      <td>Moderately satisfied</td>\n",
       "    </tr>\n",
       "  </tbody>\n",
       "</table>\n",
       "</div>"
      ],
      "text/plain": [
       "   ConvertedSalary                     JobSatisfaction  \\\n",
       "0              NaN                 Extremely satisfied   \n",
       "1          70841.0             Moderately dissatisfied   \n",
       "2              NaN                Moderately satisfied   \n",
       "3              NaN  Neither satisfied nor dissatisfied   \n",
       "4          21426.0                  Slightly satisfied   \n",
       "\n",
       "                   CareerSatisfaction  \n",
       "0                 Extremely satisfied  \n",
       "1  Neither satisfied nor dissatisfied  \n",
       "2                Moderately satisfied  \n",
       "3               Slightly dissatisfied  \n",
       "4                Moderately satisfied  "
      ]
     },
     "execution_count": 13,
     "metadata": {},
     "output_type": "execute_result"
    }
   ],
   "source": [
    "q_df.head()"
   ]
  },
  {
   "cell_type": "code",
   "execution_count": 14,
   "metadata": {},
   "outputs": [
    {
     "name": "stdout",
     "output_type": "stream",
     "text": [
      "<class 'pandas.core.frame.DataFrame'>\n",
      "RangeIndex: 98855 entries, 0 to 98854\n",
      "Data columns (total 3 columns):\n",
      "ConvertedSalary       47702 non-null float64\n",
      "JobSatisfaction       69276 non-null object\n",
      "CareerSatisfaction    76504 non-null object\n",
      "dtypes: float64(1), object(2)\n",
      "memory usage: 2.3+ MB\n"
     ]
    }
   ],
   "source": [
    "q_df.info()"
   ]
  },
  {
   "cell_type": "code",
   "execution_count": null,
   "metadata": {},
   "outputs": [],
   "source": [
    "q_df.dropna(inplace=True)"
   ]
  },
  {
   "cell_type": "code",
   "execution_count": 15,
   "metadata": {},
   "outputs": [
    {
     "name": "stdout",
     "output_type": "stream",
     "text": [
      "Column: ConvertedSalary | Values: [    nan  70841.  21426. ...  11244. 269076.   1584.]\n",
      "Column: JobSatisfaction | Values: ['Extremely satisfied' 'Moderately dissatisfied' 'Moderately satisfied'\n",
      " 'Neither satisfied nor dissatisfied' 'Slightly satisfied' nan\n",
      " 'Slightly dissatisfied' 'Extremely dissatisfied']\n",
      "Column: CareerSatisfaction | Values: ['Extremely satisfied' 'Neither satisfied nor dissatisfied'\n",
      " 'Moderately satisfied' 'Slightly dissatisfied' 'Slightly satisfied' nan\n",
      " 'Moderately dissatisfied' 'Extremely dissatisfied']\n"
     ]
    }
   ],
   "source": [
    "for col in q_df.columns:\n",
    "    print('Column: {} | Values: {}'.format(col, q_df[col].unique()))"
   ]
  },
  {
   "cell_type": "code",
   "execution_count": 16,
   "metadata": {},
   "outputs": [
    {
     "name": "stdout",
     "output_type": "stream",
     "text": [
      "23844.0 93000.0 69156.0\n"
     ]
    }
   ],
   "source": [
    "q1 = q_df['ConvertedSalary'].quantile(0.25)\n",
    "q3 = q_df['ConvertedSalary'].quantile(0.75)\n",
    "IQR = q3 - q1\n",
    "print(q1, q3, IQR)"
   ]
  },
  {
   "cell_type": "markdown",
   "metadata": {},
   "source": [
    "#### REMOVE ROWS WITH OUTLIER SALARIES"
   ]
  },
  {
   "cell_type": "code",
   "execution_count": 17,
   "metadata": {},
   "outputs": [],
   "source": [
    "ub = q_df['ConvertedSalary'] <= (q3 + (1.5 * IQR))\n",
    "\n",
    "q_df = q_df[ub]"
   ]
  },
  {
   "cell_type": "code",
   "execution_count": 18,
   "metadata": {},
   "outputs": [
    {
     "data": {
      "text/plain": [
       "<matplotlib.axes._subplots.AxesSubplot at 0x7f8f7fe36c18>"
      ]
     },
     "execution_count": 18,
     "metadata": {},
     "output_type": "execute_result"
    },
    {
     "data": {
      "image/png": "[encoded data removed]",
      "text/plain": [
       "<Figure size 432x288 with 1 Axes>"
      ]
     },
     "metadata": {
      "needs_background": "light"
     },
     "output_type": "display_data"
    }
   ],
   "source": [
    "sns.boxplot(q_df['ConvertedSalary'])"
   ]
  },
  {
   "cell_type": "markdown",
   "metadata": {},
   "source": [
    "#### Create Categories"
   ]
  },
  {
   "cell_type": "code",
   "execution_count": 19,
   "metadata": {},
   "outputs": [],
   "source": [
    "q_df['JobSatisfaction'] = q_df['JobSatisfaction'].astype(CategoricalDtype([\n",
    "    'Extremely dissatisfied',\n",
    "    'Moderately dissatisfied',\n",
    "    'Slightly dissatisfied', \n",
    "    'Neither satisfied nor dissatisfied',\n",
    "    'Slightly satisfied',\n",
    "    'Moderately satisfied',\n",
    "    'Extremely satisfied'    \n",
    "], ordered=True))"
   ]
  },
  {
   "cell_type": "code",
   "execution_count": 20,
   "metadata": {},
   "outputs": [],
   "source": [
    "q_df['CareerSatisfaction'] = q_df['CareerSatisfaction'].astype(CategoricalDtype([\n",
    "    'Extremely dissatisfied',\n",
    "    'Moderately dissatisfied',\n",
    "    'Slightly dissatisfied', \n",
    "    'Neither satisfied nor dissatisfied',\n",
    "    'Slightly satisfied',\n",
    "    'Moderately satisfied',\n",
    "    'Extremely satisfied'    \n",
    "], ordered=True))"
   ]
  },
  {
   "cell_type": "code",
   "execution_count": 21,
   "metadata": {},
   "outputs": [
    {
     "data": {
      "text/plain": [
       "Index(['JobSatisfaction', 'CareerSatisfaction'], dtype='object')"
      ]
     },
     "execution_count": 21,
     "metadata": {},
     "output_type": "execute_result"
    }
   ],
   "source": [
    "cat_columns = q_df.select_dtypes(['category']).columns\n",
    "cat_columns"
   ]
  },
  {
   "cell_type": "code",
   "execution_count": 22,
   "metadata": {},
   "outputs": [],
   "source": [
    "q_df[cat_columns] = q_df[cat_columns].apply(lambda x: x.cat.codes)"
   ]
  },
  {
   "cell_type": "code",
   "execution_count": 23,
   "metadata": {},
   "outputs": [
    {
     "name": "stdout",
     "output_type": "stream",
     "text": [
      "<class 'pandas.core.frame.DataFrame'>\n",
      "Int64Index: 45069 entries, 1 to 89965\n",
      "Data columns (total 3 columns):\n",
      "ConvertedSalary       45069 non-null float64\n",
      "JobSatisfaction       45069 non-null int8\n",
      "CareerSatisfaction    45069 non-null int8\n",
      "dtypes: float64(1), int8(2)\n",
      "memory usage: 792.2 KB\n"
     ]
    }
   ],
   "source": [
    "q_df.info()"
   ]
  },
  {
   "cell_type": "code",
   "execution_count": 24,
   "metadata": {},
   "outputs": [
    {
     "data": {
      "text/html": [
       "<div>\n",
       "<style scoped>\n",
       "    .dataframe tbody tr th:only-of-type {\n",
       "        vertical-align: middle;\n",
       "    }\n",
       "\n",
       "    .dataframe tbody tr th {\n",
       "        vertical-align: top;\n",
       "    }\n",
       "\n",
       "    .dataframe thead th {\n",
       "        text-align: right;\n",
       "    }\n",
       "</style>\n",
       "<table border=\"1\" class=\"dataframe\">\n",
       "  <thead>\n",
       "    <tr style=\"text-align: right;\">\n",
       "      <th></th>\n",
       "      <th>ConvertedSalary</th>\n",
       "      <th>JobSatisfaction</th>\n",
       "      <th>CareerSatisfaction</th>\n",
       "    </tr>\n",
       "  </thead>\n",
       "  <tbody>\n",
       "    <tr>\n",
       "      <th>1</th>\n",
       "      <td>70841.0</td>\n",
       "      <td>1</td>\n",
       "      <td>3</td>\n",
       "    </tr>\n",
       "    <tr>\n",
       "      <th>4</th>\n",
       "      <td>21426.0</td>\n",
       "      <td>4</td>\n",
       "      <td>5</td>\n",
       "    </tr>\n",
       "    <tr>\n",
       "      <th>5</th>\n",
       "      <td>41671.0</td>\n",
       "      <td>5</td>\n",
       "      <td>4</td>\n",
       "    </tr>\n",
       "    <tr>\n",
       "      <th>6</th>\n",
       "      <td>120000.0</td>\n",
       "      <td>4</td>\n",
       "      <td>5</td>\n",
       "    </tr>\n",
       "    <tr>\n",
       "      <th>14</th>\n",
       "      <td>0.0</td>\n",
       "      <td>3</td>\n",
       "      <td>1</td>\n",
       "    </tr>\n",
       "  </tbody>\n",
       "</table>\n",
       "</div>"
      ],
      "text/plain": [
       "    ConvertedSalary  JobSatisfaction  CareerSatisfaction\n",
       "1           70841.0                1                   3\n",
       "4           21426.0                4                   5\n",
       "5           41671.0                5                   4\n",
       "6          120000.0                4                   5\n",
       "14              0.0                3                   1"
      ]
     },
     "execution_count": 24,
     "metadata": {},
     "output_type": "execute_result"
    }
   ],
   "source": [
    "q_df.head()"
   ]
  },
  {
   "cell_type": "code",
   "execution_count": 25,
   "metadata": {},
   "outputs": [
    {
     "name": "stdout",
     "output_type": "stream",
     "text": [
      "Column: ConvertedSalary | Values: [70841. 21426. 41671. ...  1716. 11244.  1584.]\n",
      "Column: JobSatisfaction | Values: [ 1  4  5  3  2  0 -1  6]\n",
      "Column: CareerSatisfaction | Values: [ 3  5  4  1  2  6  0 -1]\n"
     ]
    }
   ],
   "source": [
    "for col in q_df.columns:\n",
    "    print('Column: {} | Values: {}'.format(col, q_df[col].unique()))"
   ]
  },
  {
   "cell_type": "code",
   "execution_count": 26,
   "metadata": {},
   "outputs": [],
   "source": [
    "q_df['SalaryBins'] = pd.qcut(q_df[\"ConvertedSalary\"], 7, labels=False)"
   ]
  },
  {
   "cell_type": "code",
   "execution_count": 27,
   "metadata": {},
   "outputs": [
    {
     "data": {
      "text/html": [
       "<div>\n",
       "<style scoped>\n",
       "    .dataframe tbody tr th:only-of-type {\n",
       "        vertical-align: middle;\n",
       "    }\n",
       "\n",
       "    .dataframe tbody tr th {\n",
       "        vertical-align: top;\n",
       "    }\n",
       "\n",
       "    .dataframe thead th {\n",
       "        text-align: right;\n",
       "    }\n",
       "</style>\n",
       "<table border=\"1\" class=\"dataframe\">\n",
       "  <thead>\n",
       "    <tr style=\"text-align: right;\">\n",
       "      <th></th>\n",
       "      <th>ConvertedSalary</th>\n",
       "      <th>JobSatisfaction</th>\n",
       "      <th>CareerSatisfaction</th>\n",
       "      <th>SalaryBins</th>\n",
       "    </tr>\n",
       "  </thead>\n",
       "  <tbody>\n",
       "    <tr>\n",
       "      <th>1</th>\n",
       "      <td>70841.0</td>\n",
       "      <td>1</td>\n",
       "      <td>3</td>\n",
       "      <td>4</td>\n",
       "    </tr>\n",
       "    <tr>\n",
       "      <th>4</th>\n",
       "      <td>21426.0</td>\n",
       "      <td>4</td>\n",
       "      <td>5</td>\n",
       "      <td>1</td>\n",
       "    </tr>\n",
       "    <tr>\n",
       "      <th>5</th>\n",
       "      <td>41671.0</td>\n",
       "      <td>5</td>\n",
       "      <td>4</td>\n",
       "      <td>2</td>\n",
       "    </tr>\n",
       "    <tr>\n",
       "      <th>6</th>\n",
       "      <td>120000.0</td>\n",
       "      <td>4</td>\n",
       "      <td>5</td>\n",
       "      <td>6</td>\n",
       "    </tr>\n",
       "    <tr>\n",
       "      <th>14</th>\n",
       "      <td>0.0</td>\n",
       "      <td>3</td>\n",
       "      <td>1</td>\n",
       "      <td>0</td>\n",
       "    </tr>\n",
       "  </tbody>\n",
       "</table>\n",
       "</div>"
      ],
      "text/plain": [
       "    ConvertedSalary  JobSatisfaction  CareerSatisfaction  SalaryBins\n",
       "1           70841.0                1                   3           4\n",
       "4           21426.0                4                   5           1\n",
       "5           41671.0                5                   4           2\n",
       "6          120000.0                4                   5           6\n",
       "14              0.0                3                   1           0"
      ]
     },
     "execution_count": 27,
     "metadata": {},
     "output_type": "execute_result"
    }
   ],
   "source": [
    "q_df.head()"
   ]
  },
  {
   "cell_type": "markdown",
   "metadata": {},
   "source": [
    "### Examine some correlations"
   ]
  },
  {
   "cell_type": "code",
   "execution_count": 28,
   "metadata": {},
   "outputs": [
    {
     "data": {
      "text/html": [
       "<div>\n",
       "<style scoped>\n",
       "    .dataframe tbody tr th:only-of-type {\n",
       "        vertical-align: middle;\n",
       "    }\n",
       "\n",
       "    .dataframe tbody tr th {\n",
       "        vertical-align: top;\n",
       "    }\n",
       "\n",
       "    .dataframe thead th {\n",
       "        text-align: right;\n",
       "    }\n",
       "</style>\n",
       "<table border=\"1\" class=\"dataframe\">\n",
       "  <thead>\n",
       "    <tr style=\"text-align: right;\">\n",
       "      <th></th>\n",
       "      <th>ConvertedSalary</th>\n",
       "      <th>JobSatisfaction</th>\n",
       "      <th>CareerSatisfaction</th>\n",
       "      <th>SalaryBins</th>\n",
       "    </tr>\n",
       "  </thead>\n",
       "  <tbody>\n",
       "    <tr>\n",
       "      <th>ConvertedSalary</th>\n",
       "      <td>1.000</td>\n",
       "      <td>0.202</td>\n",
       "      <td>0.208</td>\n",
       "      <td>0.954</td>\n",
       "    </tr>\n",
       "    <tr>\n",
       "      <th>JobSatisfaction</th>\n",
       "      <td>0.202</td>\n",
       "      <td>1.000</td>\n",
       "      <td>0.582</td>\n",
       "      <td>0.219</td>\n",
       "    </tr>\n",
       "    <tr>\n",
       "      <th>CareerSatisfaction</th>\n",
       "      <td>0.208</td>\n",
       "      <td>0.582</td>\n",
       "      <td>1.000</td>\n",
       "      <td>0.215</td>\n",
       "    </tr>\n",
       "    <tr>\n",
       "      <th>SalaryBins</th>\n",
       "      <td>0.954</td>\n",
       "      <td>0.219</td>\n",
       "      <td>0.215</td>\n",
       "      <td>1.000</td>\n",
       "    </tr>\n",
       "  </tbody>\n",
       "</table>\n",
       "</div>"
      ],
      "text/plain": [
       "                    ConvertedSalary  JobSatisfaction  CareerSatisfaction  \\\n",
       "ConvertedSalary               1.000            0.202               0.208   \n",
       "JobSatisfaction               0.202            1.000               0.582   \n",
       "CareerSatisfaction            0.208            0.582               1.000   \n",
       "SalaryBins                    0.954            0.219               0.215   \n",
       "\n",
       "                    SalaryBins  \n",
       "ConvertedSalary          0.954  \n",
       "JobSatisfaction          0.219  \n",
       "CareerSatisfaction       0.215  \n",
       "SalaryBins               1.000  "
      ]
     },
     "execution_count": 28,
     "metadata": {},
     "output_type": "execute_result"
    }
   ],
   "source": [
    "q_df.corr().round(3)"
   ]
  },
  {
   "cell_type": "code",
   "execution_count": 29,
   "metadata": {},
   "outputs": [
    {
     "data": {
      "text/plain": [
       "<matplotlib.axes._subplots.AxesSubplot at 0x7f8f7fdb5550>"
      ]
     },
     "execution_count": 29,
     "metadata": {},
     "output_type": "execute_result"
    },
    {
     "data": {
      "image/png": "[encoded data removed]",
      "text/plain": [
       "<Figure size 432x288 with 2 Axes>"
      ]
     },
     "metadata": {
      "needs_background": "light"
     },
     "output_type": "display_data"
    }
   ],
   "source": [
    "# correlation heatmap\n",
    "cmap = plt.cm.get_cmap(\"bwr\",lut=5) \n",
    "\n",
    "sns.heatmap(q_df.corr().values, vmin=-1., vmax=1.,\n",
    "            cmap=cmap,\n",
    "            xticklabels=list(q_df.columns),\n",
    "            yticklabels=list(q_df.columns))"
   ]
  },
  {
   "cell_type": "code",
   "execution_count": 30,
   "metadata": {},
   "outputs": [
    {
     "data": {
      "text/plain": [
       "0.21933034319793188"
      ]
     },
     "execution_count": 30,
     "metadata": {},
     "output_type": "execute_result"
    }
   ],
   "source": [
    "q_df['SalaryBins'].corr(q_df['JobSatisfaction'])"
   ]
  },
  {
   "cell_type": "code",
   "execution_count": 31,
   "metadata": {},
   "outputs": [
    {
     "data": {
      "text/plain": [
       "0.21537387407003206"
      ]
     },
     "execution_count": 31,
     "metadata": {},
     "output_type": "execute_result"
    }
   ],
   "source": [
    "q_df['SalaryBins'].corr(q_df['CareerSatisfaction'])"
   ]
  },
  {
   "cell_type": "code",
   "execution_count": 32,
   "metadata": {},
   "outputs": [
    {
     "data": {
      "text/plain": [
       "0.581703105019861"
      ]
     },
     "execution_count": 32,
     "metadata": {},
     "output_type": "execute_result"
    }
   ],
   "source": [
    "q_df['JobSatisfaction'].corr(q_df['CareerSatisfaction'])"
   ]
  },
  {
   "cell_type": "code",
   "execution_count": 33,
   "metadata": {},
   "outputs": [
    {
     "name": "stdout",
     "output_type": "stream",
     "text": [
      "                 ConvertedSalary  CareerSatisfaction  SalaryBins\n",
      "JobSatisfaction                                                 \n",
      "-1                  22453.964927            2.184339    1.136623\n",
      " 0                  55810.177747            2.095871    2.821554\n",
      " 1                  57344.537559            2.601697    2.975293\n",
      " 2                  54462.133017            3.365628    2.850949\n",
      " 3                  48341.308494            3.487645    2.503089\n",
      " 4                  52139.414995            4.071851    2.714732\n",
      " 5                  61817.318731            4.756918    3.206209\n",
      " 6                  71897.960807            5.348625    3.646877\n"
     ]
    }
   ],
   "source": [
    "print(q_df.groupby('JobSatisfaction').mean())"
   ]
  },
  {
   "cell_type": "code",
   "execution_count": 34,
   "metadata": {},
   "outputs": [
    {
     "name": "stdout",
     "output_type": "stream",
     "text": [
      "                    ConvertedSalary  JobSatisfaction  SalaryBins\n",
      "CareerSatisfaction                                              \n",
      "-1                     17038.363004        -1.000000    0.873435\n",
      " 0                     47425.636651         1.287520    2.388626\n",
      " 1                     48347.867612         1.787909    2.552178\n",
      " 2                     49052.099118         2.523110    2.578680\n",
      " 3                     42099.260049         2.747291    2.234883\n",
      " 4                     52004.398074         3.691879    2.730394\n",
      " 5                     64222.873809         4.403505    3.313478\n",
      " 6                     68792.540835         5.007077    3.461949\n"
     ]
    }
   ],
   "source": [
    "print(q_df.groupby('CareerSatisfaction').mean())"
   ]
  },
  {
   "cell_type": "code",
   "execution_count": 35,
   "metadata": {},
   "outputs": [
    {
     "name": "stdout",
     "output_type": "stream",
     "text": [
      "            ConvertedSalary  JobSatisfaction  CareerSatisfaction\n",
      "SalaryBins                                                      \n",
      "0               4978.354713         2.652586            3.463892\n",
      "1              18122.288951         3.561453            3.827126\n",
      "2              35161.371227         3.836985            4.032787\n",
      "3              52142.906313         3.971460            4.196681\n",
      "4              69109.141978         4.059631            4.328127\n",
      "5              91746.204941         4.201989            4.493474\n",
      "6             135478.235824         4.231785            4.650148\n"
     ]
    }
   ],
   "source": [
    "print(q_df.groupby('SalaryBins').mean())"
   ]
  }
 ],
 "metadata": {
  "kernelspec": {
   "display_name": "Python 3",
   "language": "python",
   "name": "python3"
  },
  "language_info": {
   "codemirror_mode": {
    "name": "ipython",
    "version": 3
   },
   "file_extension": ".py",
   "mimetype": "text/x-python",
   "name": "python",
   "nbconvert_exporter": "python",
   "pygments_lexer": "ipython3",
   "version": "3.7.2"
  }
 },
 "nbformat": 4,
 "nbformat_minor": 2
}
